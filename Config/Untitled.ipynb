{
 "cells": [
  {
   "cell_type": "code",
   "execution_count": 1,
   "id": "151b12ae",
   "metadata": {},
   "outputs": [],
   "source": [
    "import pandas as pd"
   ]
  },
  {
   "cell_type": "code",
   "execution_count": 2,
   "id": "16b81328",
   "metadata": {},
   "outputs": [],
   "source": [
    "import html5lib"
   ]
  },
  {
   "cell_type": "code",
   "execution_count": 3,
   "id": "dfce404b",
   "metadata": {},
   "outputs": [],
   "source": [
    "import lxml"
   ]
  },
  {
   "cell_type": "code",
   "execution_count": 4,
   "id": "c6e3ae82",
   "metadata": {},
   "outputs": [],
   "source": [
    "html = \"\"\"\n",
    "<table>\n",
    "    <tbody>\n",
    "        <tr><td>ФИТ-бакалавры</td></tr>\n",
    "        <tr><td><a href='/file=бакалавры'>...</a></td></tr>\n",
    "    </tbody>\n",
    "</table>\n",
    "\"\"\""
   ]
  },
  {
   "cell_type": "code",
   "execution_count": 5,
   "id": "869cbbcc",
   "metadata": {},
   "outputs": [
    {
     "name": "stdout",
     "output_type": "stream",
     "text": [
      "\n",
      "<table>\n",
      "    <tbody>\n",
      "        <tr><td>ФИТ-бакалавры</td></tr>\n",
      "        <tr><td><a href='/file=бакалавры'>...</a></td></tr>\n",
      "    </tbody>\n",
      "</table>\n",
      "\n"
     ]
    }
   ],
   "source": [
    "print(html)"
   ]
  },
  {
   "cell_type": "code",
   "execution_count": 6,
   "id": "8faddadc",
   "metadata": {},
   "outputs": [
    {
     "data": {
      "text/plain": [
       "[Empty DataFrame\n",
       " Columns: [РОЗКЛАД ДЗВІНКІВ]\n",
       " Index: [],\n",
       "         0       1       2       3       4       5\n",
       " 0     ФІТ    ФЕМП     ФТМ   ФРГТБ     ФФО    ФМТП\n",
       " 1  1 курс  1 курс  1 курс  1 курс  1 курс  1 курс\n",
       " 2  2 курс  2 курс  2 курс  2 курс  2 курс  2 курс\n",
       " 3  3 курс  3 курс  3 курс  3 курc  3 курс  3 курс\n",
       " 4  4 курс  4 курс  4 курс  4 курс  4 курс  4 курс,\n",
       "         0       1       2       3       4       5\n",
       " 0     ФІТ    ФЕМП     ФТМ   ФРГТБ     ФФО    ФМТП\n",
       " 1  1 курс  1 курс  1 курс  1 курс  1 курс  1 курс\n",
       " 2  2 курс  2 курс  2 курс  2 курс  2 курс  2 курс,\n",
       "     0   1       2   3   4   5\n",
       " 0 NaN NaN     ФТМ NaN NaN NaN\n",
       " 1 NaN NaN  1 курс NaN NaN NaN\n",
       " 2 NaN NaN  2 курс NaN NaN NaN\n",
       " 3 NaN NaN  3 курс NaN NaN NaN\n",
       " 4 NaN NaN  4 курс NaN NaN NaN,\n",
       "         0       1       2       3       4       5\n",
       " 0     ФІТ    ФЕМП     ФТМ   ФРГТБ     ФФО    ФМТП\n",
       " 1  1 курс  1 курс  1 курс  1 курс  1 курс  1 курс\n",
       " 2  2 курс  2 курс  2 курс  2 курс  2 курс  2 курс\n",
       " 3  3 курс  3 курс  3 курс  3 курс  3 курс  3 курс\n",
       " 4  4 курс  4 курс  4 курс  4 курс  4 курс  4 курс\n",
       " 5  5 курс  5 курс  5 курс  5 курс  5 курс  5 курс,\n",
       "         0       1       2       3       4       5\n",
       " 0     ФІТ    ФЕМП     ФТМ   ФРГТБ     ФФО    ФМТП\n",
       " 1  1 курс  1 курс  1 курс  1 курс  1 курс  1 курс\n",
       " 2  2 курс  2 курс  2 курс  2 курс  2 курс  2 курс,\n",
       "         0       1       2       3       4       5\n",
       " 0     ФІТ    ФЕМП     ФТМ   ФРГТБ     ФФО    ФМТП\n",
       " 1  1 курс  1 курс  1 курс  1 курс  1 курс  1 курс\n",
       " 2  2 курс  2 курс  2 курс  2 курс  2 курс  2 курс\n",
       " 3  3 курс  3 курс  3 курс  3 курс  3 курс  3 курс\n",
       " 4  4 курс  4 курс  4 курс  4 курс  4 курс  4 курс,\n",
       "         0       1       2       3       4       5\n",
       " 0     ФІТ    ФЕМП     ФТМ   ФРГТБ     ФФО    ФМТП\n",
       " 1  1 курс  1 курс  1 курс  1 курс  1 курс  1 курс\n",
       " 2  2 курс  2 курс  2 курс  2 курс  2 курс  2 курс,\n",
       "             0           1           2           3           4           5\n",
       " 0         ФІТ        ФЕМП         ФТМ       ФРГТБ         ФФО        ФМТП\n",
       " 1  >>Відкрити  >>Відкрити  >>Відкрити  >>Відкрити  >>Відкрити  >>Відкрити,\n",
       "           0         1         2         3         4         5\n",
       " 0       ФІТ      ФЕМП       ФТМ     ФРГТБ       ФФО      ФМТП\n",
       " 1  Відкрити  Відкрити  Відкрити  Відкрити  Відкрити  Відкрити,\n",
       "   АТЕСТАЦІЯ ЗДОБУВАЧІВ ВИЩОЇ ОСВІТИ                                  \\\n",
       "       ДЕННА, ВЕЧІРНЯ ФОРМА НАВЧАННЯ ДЕННА, ВЕЧІРНЯ ФОРМА НАВЧАННЯ.1   \n",
       " 0                          МАГІСТРИ                             NaN   \n",
       " \n",
       "                                                                    \\\n",
       "   ДЕННА, ВЕЧІРНЯ ФОРМА НАВЧАННЯ.2 ДЕННА, ВЕЧІРНЯ ФОРМА НАВЧАННЯ.3   \n",
       " 0                       БАКАЛАВРИ                       БАКАЛАВРИ   \n",
       " \n",
       "                                                                          \\\n",
       "   ЗАОЧНА ФОРМА НАВЧАННЯ ЗАОЧНА ФОРМА НАВЧАННЯ.1 ЗАОЧНА ФОРМА НАВЧАННЯ.2   \n",
       " 0              МАГІСТРИ                     NaN               БАКАЛАВРИ   \n",
       " \n",
       "                            \n",
       "   ЗАОЧНА ФОРМА НАВЧАННЯ.3  \n",
       " 0               БАКАЛАВРИ  ]"
      ]
     },
     "execution_count": 6,
     "metadata": {},
     "output_type": "execute_result"
    }
   ],
   "source": [
    "pd.read_html(ht)"
   ]
  },
  {
   "cell_type": "code",
   "execution_count": 15,
   "id": "480a44ce",
   "metadata": {},
   "outputs": [],
   "source": [
    "lxml?"
   ]
  },
  {
   "cell_type": "code",
   "execution_count": 16,
   "id": "b7277875",
   "metadata": {},
   "outputs": [
    {
     "name": "stdout",
     "output_type": "stream",
     "text": [
      "Python 3.9.4\r\n"
     ]
    }
   ],
   "source": [
    "!python --version"
   ]
  },
  {
   "cell_type": "code",
   "execution_count": 24,
   "id": "642c67fe",
   "metadata": {},
   "outputs": [
    {
     "name": "stdout",
     "output_type": "stream",
     "text": [
      "pandas                    1.2.4            py39h23ab428_0  \r\n"
     ]
    }
   ],
   "source": [
    "!conda list | grep pandas"
   ]
  },
  {
   "cell_type": "code",
   "execution_count": null,
   "id": "313474e3",
   "metadata": {},
   "outputs": [],
   "source": []
  }
 ],
 "metadata": {
  "kernelspec": {
   "display_name": "Python 3",
   "language": "python",
   "name": "python3"
  },
  "language_info": {
   "codemirror_mode": {
    "name": "ipython",
    "version": 3
   },
   "file_extension": ".py",
   "mimetype": "text/x-python",
   "name": "python",
   "nbconvert_exporter": "python",
   "pygments_lexer": "ipython3",
   "version": "3.9.4"
  }
 },
 "nbformat": 4,
 "nbformat_minor": 5
}
