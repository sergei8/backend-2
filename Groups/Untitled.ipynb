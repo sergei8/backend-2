{
 "cells": [
  {
   "cell_type": "code",
   "execution_count": 48,
   "id": "a5ee633f",
   "metadata": {},
   "outputs": [],
   "source": [
    "import numpy as np"
   ]
  },
  {
   "cell_type": "code",
   "execution_count": 13,
   "id": "b2b333a0",
   "metadata": {},
   "outputs": [],
   "source": [
    "import pandas as pd"
   ]
  },
  {
   "cell_type": "code",
   "execution_count": 41,
   "id": "1937c482",
   "metadata": {},
   "outputs": [],
   "source": [
    "f = pd.read_excel(\"https://knute.edu.ua/file/MjY=/0c7de560c133001b06847d812c316c70.xls\", \n",
    "                  sheet_name=None, header=None)"
   ]
  },
  {
   "cell_type": "code",
   "execution_count": 32,
   "id": "40f0fb43",
   "metadata": {},
   "outputs": [],
   "source": [
    "l = list(f.keys())"
   ]
  },
  {
   "cell_type": "code",
   "execution_count": 172,
   "id": "f66410fb",
   "metadata": {},
   "outputs": [
    {
     "data": {
      "text/plain": [
       "['з 08.02 Розклад', 'Начитка', 'Лист3']"
      ]
     },
     "execution_count": 172,
     "metadata": {},
     "output_type": "execute_result"
    }
   ],
   "source": [
    "l"
   ]
  },
  {
   "cell_type": "code",
   "execution_count": 22,
   "id": "72a6d3c6",
   "metadata": {},
   "outputs": [
    {
     "name": "stdout",
     "output_type": "stream",
     "text": [
      "(5, Unnamed: 0     NaN\n",
      "Unnamed: 1     NaN\n",
      "Unnamed: 2     NaN\n",
      "Unnamed: 3     NaN\n",
      "Unnamed: 4     NaN\n",
      "Unnamed: 5     NaN\n",
      "Unnamed: 6     NaN\n",
      "Unnamed: 7     NaN\n",
      "Unnamed: 8     NaN\n",
      "Unnamed: 9     NaN\n",
      "Unnamed: 10    NaN\n",
      "Unnamed: 11    NaN\n",
      "Затверджую     NaN\n",
      "Unnamed: 13    NaN\n",
      "Unnamed: 14    NaN\n",
      "Unnamed: 15    NaN\n",
      "Unnamed: 16    NaN\n",
      "Unnamed: 17    NaN\n",
      "Unnamed: 18    NaN\n",
      "Name: 5, dtype: object)\n"
     ]
    }
   ],
   "source": [
    "for r in a.iterrows():\n",
    "    print(r)"
   ]
  },
  {
   "cell_type": "code",
   "execution_count": 43,
   "id": "24e59c7c",
   "metadata": {},
   "outputs": [
    {
     "data": {
      "text/html": [
       "<div>\n",
       "<style scoped>\n",
       "    .dataframe tbody tr th:only-of-type {\n",
       "        vertical-align: middle;\n",
       "    }\n",
       "\n",
       "    .dataframe tbody tr th {\n",
       "        vertical-align: top;\n",
       "    }\n",
       "\n",
       "    .dataframe thead th {\n",
       "        text-align: right;\n",
       "    }\n",
       "</style>\n",
       "<table border=\"1\" class=\"dataframe\">\n",
       "  <thead>\n",
       "    <tr style=\"text-align: right;\">\n",
       "      <th></th>\n",
       "      <th>0</th>\n",
       "      <th>1</th>\n",
       "      <th>2</th>\n",
       "      <th>3</th>\n",
       "      <th>4</th>\n",
       "      <th>5</th>\n",
       "      <th>6</th>\n",
       "      <th>7</th>\n",
       "      <th>8</th>\n",
       "      <th>9</th>\n",
       "      <th>10</th>\n",
       "      <th>11</th>\n",
       "      <th>12</th>\n",
       "      <th>13</th>\n",
       "      <th>14</th>\n",
       "      <th>15</th>\n",
       "      <th>16</th>\n",
       "      <th>17</th>\n",
       "      <th>18</th>\n",
       "    </tr>\n",
       "  </thead>\n",
       "  <tbody>\n",
       "    <tr>\n",
       "      <th>5</th>\n",
       "      <td>Номер\\nтижня</td>\n",
       "      <td>День\\nтижня</td>\n",
       "      <td>Пара\\n</td>\n",
       "      <td>On-line</td>\n",
       "      <td>On-line</td>\n",
       "      <td>On-line</td>\n",
       "      <td>On-line</td>\n",
       "      <td>On-line</td>\n",
       "      <td>On-line</td>\n",
       "      <td>On-line</td>\n",
       "      <td>On-line</td>\n",
       "      <td>On-line</td>\n",
       "      <td>On-line</td>\n",
       "      <td>On-line</td>\n",
       "      <td>On-line</td>\n",
       "      <td>On-line</td>\n",
       "      <td>Пара\\n</td>\n",
       "      <td>День\\nтижня</td>\n",
       "      <td>Номер\\nтижня</td>\n",
       "    </tr>\n",
       "    <tr>\n",
       "      <th>6</th>\n",
       "      <td>NaN</td>\n",
       "      <td>NaN</td>\n",
       "      <td>NaN</td>\n",
       "      <td>NaN</td>\n",
       "      <td>NaN</td>\n",
       "      <td>NaN</td>\n",
       "      <td>NaN</td>\n",
       "      <td>NaN</td>\n",
       "      <td>NaN</td>\n",
       "      <td>NaN</td>\n",
       "      <td>NaN</td>\n",
       "      <td>NaN</td>\n",
       "      <td>NaN</td>\n",
       "      <td>NaN</td>\n",
       "      <td>NaN</td>\n",
       "      <td>NaN</td>\n",
       "      <td>NaN</td>\n",
       "      <td>NaN</td>\n",
       "      <td>NaN</td>\n",
       "    </tr>\n",
       "    <tr>\n",
       "      <th>7</th>\n",
       "      <td>Номер\\nтижня</td>\n",
       "      <td>День\\nтижня</td>\n",
       "      <td>Пара\\n</td>\n",
       "      <td>1 група</td>\n",
       "      <td>2 група</td>\n",
       "      <td>3 група</td>\n",
       "      <td>4 група</td>\n",
       "      <td>5 група</td>\n",
       "      <td>6 група</td>\n",
       "      <td>6мб група</td>\n",
       "      <td>7 група</td>\n",
       "      <td>8 група</td>\n",
       "      <td>9 група</td>\n",
       "      <td>10 група</td>\n",
       "      <td>11 група</td>\n",
       "      <td>12 група</td>\n",
       "      <td>Пара\\n</td>\n",
       "      <td>День\\nтижня</td>\n",
       "      <td>Номер\\nтижня</td>\n",
       "    </tr>\n",
       "    <tr>\n",
       "      <th>8</th>\n",
       "      <td>Перший тиждень</td>\n",
       "      <td>Понеділок</td>\n",
       "      <td>1</td>\n",
       "      <td>Л Економічна теорія</td>\n",
       "      <td>Л Технологія створ стартапу  В</td>\n",
       "      <td>Л Технологія створ стартапу  В</td>\n",
       "      <td>Л Комп'ютерні ТехнОбр та ВізДан</td>\n",
       "      <td>Л Комп'ютерні ТехнОбр та ВізДан</td>\n",
       "      <td>Л Комп'ютерні ТехнОбр та ВізДан</td>\n",
       "      <td>Л Комп'ютерні ТехнОбр та ВізДан</td>\n",
       "      <td>NaN</td>\n",
       "      <td>П Психологія  В</td>\n",
       "      <td>Л Технологія створ стартапу  В</td>\n",
       "      <td>Лб1 Інженерна та комп'ют графіка  В</td>\n",
       "      <td>Лб1 Алгоритмізація та програм</td>\n",
       "      <td>П Інмов за профспрям (Англ мова 2) В</td>\n",
       "      <td>1</td>\n",
       "      <td>Понеділок</td>\n",
       "      <td>Перший тиждень</td>\n",
       "    </tr>\n",
       "    <tr>\n",
       "      <th>9</th>\n",
       "      <td>NaN</td>\n",
       "      <td>NaN</td>\n",
       "      <td>NaN</td>\n",
       "      <td>доц. Ясько Ю.І .</td>\n",
       "      <td>доц. Пурденко О.А .</td>\n",
       "      <td>доц. Пурденко О.А .</td>\n",
       "      <td>доц. Самойленко Г.Т .</td>\n",
       "      <td>доц. Самойленко Г.Т .</td>\n",
       "      <td>доц. Самойленко Г.Т .</td>\n",
       "      <td>доц. Самойленко Г.Т .</td>\n",
       "      <td>NaN</td>\n",
       "      <td>ст.в. Гулько А.О .</td>\n",
       "      <td>доц. Пурденко О.А .</td>\n",
       "      <td>доц. Расулов Р.А .</td>\n",
       "      <td>ст.в. Кузнєцов О.Ф .</td>\n",
       "      <td>вик. Савчук Т.Л .</td>\n",
       "      <td>NaN</td>\n",
       "      <td>NaN</td>\n",
       "      <td>NaN</td>\n",
       "    </tr>\n",
       "  </tbody>\n",
       "</table>\n",
       "</div>"
      ],
      "text/plain": [
       "                0            1       2                    3   \\\n",
       "5     Номер\\nтижня  День\\nтижня  Пара\\n              On-line   \n",
       "6              NaN          NaN     NaN                  NaN   \n",
       "7     Номер\\nтижня  День\\nтижня  Пара\\n              1 група   \n",
       "8  Перший тиждень     Понеділок       1  Л Економічна теорія   \n",
       "9              NaN          NaN     NaN     доц. Ясько Ю.І .   \n",
       "\n",
       "                               4                               5   \\\n",
       "5                         On-line                         On-line   \n",
       "6                             NaN                             NaN   \n",
       "7                         2 група                         3 група   \n",
       "8  Л Технологія створ стартапу  В  Л Технологія створ стартапу  В   \n",
       "9             доц. Пурденко О.А .             доц. Пурденко О.А .   \n",
       "\n",
       "                                6                                7   \\\n",
       "5                          On-line                          On-line   \n",
       "6                              NaN                              NaN   \n",
       "7                          4 група                          5 група   \n",
       "8  Л Комп'ютерні ТехнОбр та ВізДан  Л Комп'ютерні ТехнОбр та ВізДан   \n",
       "9            доц. Самойленко Г.Т .            доц. Самойленко Г.Т .   \n",
       "\n",
       "                                8                                9        10  \\\n",
       "5                          On-line                          On-line  On-line   \n",
       "6                              NaN                              NaN      NaN   \n",
       "7                          6 група                        6мб група  7 група   \n",
       "8  Л Комп'ютерні ТехнОбр та ВізДан  Л Комп'ютерні ТехнОбр та ВізДан      NaN   \n",
       "9            доц. Самойленко Г.Т .            доц. Самойленко Г.Т .      NaN   \n",
       "\n",
       "                      11                              12  \\\n",
       "5                On-line                         On-line   \n",
       "6                    NaN                             NaN   \n",
       "7                8 група                         9 група   \n",
       "8        П Психологія  В  Л Технологія створ стартапу  В   \n",
       "9     ст.в. Гулько А.О .             доц. Пурденко О.А .   \n",
       "\n",
       "                                    13                             14  \\\n",
       "5                              On-line                        On-line   \n",
       "6                                  NaN                            NaN   \n",
       "7                             10 група                       11 група   \n",
       "8  Лб1 Інженерна та комп'ют графіка  В  Лб1 Алгоритмізація та програм   \n",
       "9                   доц. Расулов Р.А .           ст.в. Кузнєцов О.Ф .   \n",
       "\n",
       "                                     15      16           17               18  \n",
       "5                               On-line  Пара\\n  День\\nтижня     Номер\\nтижня  \n",
       "6                                   NaN     NaN          NaN              NaN  \n",
       "7                              12 група  Пара\\n  День\\nтижня     Номер\\nтижня  \n",
       "8  П Інмов за профспрям (Англ мова 2) В       1    Понеділок  Перший тиждень   \n",
       "9                     вик. Савчук Т.Л .     NaN          NaN              NaN  "
      ]
     },
     "execution_count": 43,
     "metadata": {},
     "output_type": "execute_result"
    }
   ],
   "source": [
    "f['з 08.02 Розклад'][5:10]"
   ]
  },
  {
   "cell_type": "code",
   "execution_count": 45,
   "id": "d60feeee",
   "metadata": {},
   "outputs": [
    {
     "data": {
      "text/plain": [
       "Int64Index([0, 1, 2, 3, 4, 5, 6, 7, 8, 9, 10, 11, 12, 13, 14, 15, 16, 17, 18], dtype='int64')"
      ]
     },
     "execution_count": 45,
     "metadata": {},
     "output_type": "execute_result"
    }
   ],
   "source": [
    "f['з 08.02 Розклад'].columns"
   ]
  },
  {
   "cell_type": "code",
   "execution_count": 46,
   "id": "c1aa5951",
   "metadata": {},
   "outputs": [
    {
     "data": {
      "text/plain": [
       "RangeIndex(start=0, stop=199, step=1)"
      ]
     },
     "execution_count": 46,
     "metadata": {},
     "output_type": "execute_result"
    }
   ],
   "source": [
    "f['з 08.02 Розклад'].index"
   ]
  },
  {
   "cell_type": "code",
   "execution_count": 70,
   "id": "2a35e5a0",
   "metadata": {
    "run_control": {
     "marked": false
    }
   },
   "outputs": [],
   "source": [
    "    d_dfs = {\n",
    "        \"Розклад\" :  pd.DataFrame(np.array([[1,2,3],[4,5,None]]))\n",
    "    }"
   ]
  },
  {
   "cell_type": "code",
   "execution_count": 71,
   "id": "3fa4323b",
   "metadata": {},
   "outputs": [
    {
     "data": {
      "text/plain": [
       "{'Розклад':    0  1     2\n",
       " 0  1  2     3\n",
       " 1  4  5  None}"
      ]
     },
     "execution_count": 71,
     "metadata": {},
     "output_type": "execute_result"
    }
   ],
   "source": [
    "d_dfs"
   ]
  },
  {
   "cell_type": "code",
   "execution_count": 77,
   "id": "1218d33f",
   "metadata": {},
   "outputs": [],
   "source": [
    "d_dfs = {\n",
    "\"Розклад\" : pd.DataFrame(\n",
    "    [\n",
    "        [None, None, None, None],\n",
    "        [\"Номер\\nтижня\", \"День\\nтижня\", \"Пара\\n\", None],\n",
    "        [None, None, None, None]\n",
    "     ]\n",
    ")\n",
    "}\n"
   ]
  },
  {
   "cell_type": "code",
   "execution_count": 81,
   "id": "08fd7413",
   "metadata": {},
   "outputs": [],
   "source": [
    "col0 = d_dfs[\"Розклад\"][0]"
   ]
  },
  {
   "cell_type": "code",
   "execution_count": 80,
   "id": "49f80583",
   "metadata": {},
   "outputs": [
    {
     "data": {
      "text/plain": [
       "False"
      ]
     },
     "execution_count": 80,
     "metadata": {},
     "output_type": "execute_result"
    }
   ],
   "source": [
    "col0.where(\"Номер\\nтижня\" "
   ]
  },
  {
   "cell_type": "code",
   "execution_count": 75,
   "id": "e312fc71",
   "metadata": {},
   "outputs": [],
   "source": [
    "\n",
    "a = [\n",
    "    [None, None, None, None],\n",
    "    [\"Номер\\nтижня\", \"День\\nтижня\", \"Пара\\n\", None],\n",
    "    [None, None, None, None]\n",
    " ]"
   ]
  },
  {
   "cell_type": "code",
   "execution_count": 83,
   "id": "8a677ff7",
   "metadata": {},
   "outputs": [
    {
     "data": {
      "text/plain": [
       "True"
      ]
     },
     "execution_count": 83,
     "metadata": {},
     "output_type": "execute_result"
    }
   ],
   "source": [
    "\"Номер\\nтижня\" in col0.values"
   ]
  },
  {
   "cell_type": "code",
   "execution_count": 85,
   "id": "2ad3792c",
   "metadata": {},
   "outputs": [],
   "source": [
    "a = pd.DataFrame([])"
   ]
  },
  {
   "cell_type": "code",
   "execution_count": 93,
   "id": "a59b36bf",
   "metadata": {},
   "outputs": [],
   "source": [
    "a.iterrows?"
   ]
  },
  {
   "cell_type": "code",
   "execution_count": 105,
   "id": "4bfff0ed",
   "metadata": {},
   "outputs": [],
   "source": [
    "b = d_dfs[\"Розклад\"]"
   ]
  },
  {
   "cell_type": "code",
   "execution_count": 103,
   "id": "6b454cce",
   "metadata": {},
   "outputs": [
    {
     "data": {
      "text/plain": [
       "0            None\n",
       "1    Номер\\nтижня\n",
       "2            None\n",
       "Name: 0, dtype: object"
      ]
     },
     "execution_count": 103,
     "metadata": {},
     "output_type": "execute_result"
    }
   ],
   "source": [
    "d_dfs[\"Розклад\"][0]"
   ]
  },
  {
   "cell_type": "code",
   "execution_count": 109,
   "id": "01596826",
   "metadata": {},
   "outputs": [
    {
     "data": {
      "text/plain": [
       "<generator object DataFrame.iterrows at 0x7fbf894c7040>"
      ]
     },
     "execution_count": 109,
     "metadata": {},
     "output_type": "execute_result"
    }
   ],
   "source": [
    "b.iterrows()"
   ]
  },
  {
   "cell_type": "code",
   "execution_count": 115,
   "id": "5b8e8a3a",
   "metadata": {},
   "outputs": [],
   "source": [
    "c = list(b.iterrows())[1][1]"
   ]
  },
  {
   "cell_type": "code",
   "execution_count": 116,
   "id": "6e44fa0d",
   "metadata": {},
   "outputs": [
    {
     "data": {
      "text/plain": [
       "pandas.core.series.Series"
      ]
     },
     "execution_count": 116,
     "metadata": {},
     "output_type": "execute_result"
    }
   ],
   "source": [
    "type(c)"
   ]
  },
  {
   "cell_type": "code",
   "execution_count": 117,
   "id": "6a817e51",
   "metadata": {},
   "outputs": [
    {
     "data": {
      "text/plain": [
       "['Номер\\nтижня', 'День\\nтижня', 'Пара\\n', None]"
      ]
     },
     "execution_count": 117,
     "metadata": {},
     "output_type": "execute_result"
    }
   ],
   "source": [
    "list(c)"
   ]
  },
  {
   "cell_type": "code",
   "execution_count": 119,
   "id": "516cec52",
   "metadata": {},
   "outputs": [
    {
     "data": {
      "text/plain": [
       "True"
      ]
     },
     "execution_count": 119,
     "metadata": {},
     "output_type": "execute_result"
    }
   ],
   "source": [
    "\"Пара\\n\" in list(c)"
   ]
  },
  {
   "cell_type": "code",
   "execution_count": 120,
   "id": "3646e44a",
   "metadata": {},
   "outputs": [
    {
     "data": {
      "text/plain": [
       "0    Номер\\nтижня\n",
       "1     День\\nтижня\n",
       "2          Пара\\n\n",
       "3            None\n",
       "Name: 1, dtype: object"
      ]
     },
     "execution_count": 120,
     "metadata": {},
     "output_type": "execute_result"
    }
   ],
   "source": [
    "c"
   ]
  },
  {
   "cell_type": "code",
   "execution_count": 129,
   "id": "ec1c2bc2",
   "metadata": {},
   "outputs": [
    {
     "data": {
      "text/plain": [
       "['T',\n",
       " '_AXIS_LEN',\n",
       " '_AXIS_ORDERS',\n",
       " '_AXIS_REVERSED',\n",
       " '_AXIS_TO_AXIS_NUMBER',\n",
       " '_HANDLED_TYPES',\n",
       " '__abs__',\n",
       " '__add__',\n",
       " '__and__',\n",
       " '__annotations__',\n",
       " '__array__',\n",
       " '__array_priority__',\n",
       " '__array_ufunc__',\n",
       " '__array_wrap__',\n",
       " '__bool__',\n",
       " '__class__',\n",
       " '__contains__',\n",
       " '__copy__',\n",
       " '__deepcopy__',\n",
       " '__delattr__',\n",
       " '__delitem__',\n",
       " '__dict__',\n",
       " '__dir__',\n",
       " '__divmod__',\n",
       " '__doc__',\n",
       " '__eq__',\n",
       " '__finalize__',\n",
       " '__floordiv__',\n",
       " '__format__',\n",
       " '__ge__',\n",
       " '__getattr__',\n",
       " '__getattribute__',\n",
       " '__getitem__',\n",
       " '__getstate__',\n",
       " '__gt__',\n",
       " '__hash__',\n",
       " '__iadd__',\n",
       " '__iand__',\n",
       " '__ifloordiv__',\n",
       " '__imod__',\n",
       " '__imul__',\n",
       " '__init__',\n",
       " '__init_subclass__',\n",
       " '__invert__',\n",
       " '__ior__',\n",
       " '__ipow__',\n",
       " '__isub__',\n",
       " '__iter__',\n",
       " '__itruediv__',\n",
       " '__ixor__',\n",
       " '__le__',\n",
       " '__len__',\n",
       " '__lt__',\n",
       " '__matmul__',\n",
       " '__mod__',\n",
       " '__module__',\n",
       " '__mul__',\n",
       " '__ne__',\n",
       " '__neg__',\n",
       " '__new__',\n",
       " '__nonzero__',\n",
       " '__or__',\n",
       " '__pos__',\n",
       " '__pow__',\n",
       " '__radd__',\n",
       " '__rand__',\n",
       " '__rdivmod__',\n",
       " '__reduce__',\n",
       " '__reduce_ex__',\n",
       " '__repr__',\n",
       " '__rfloordiv__',\n",
       " '__rmatmul__',\n",
       " '__rmod__',\n",
       " '__rmul__',\n",
       " '__ror__',\n",
       " '__round__',\n",
       " '__rpow__',\n",
       " '__rsub__',\n",
       " '__rtruediv__',\n",
       " '__rxor__',\n",
       " '__setattr__',\n",
       " '__setitem__',\n",
       " '__setstate__',\n",
       " '__sizeof__',\n",
       " '__str__',\n",
       " '__sub__',\n",
       " '__subclasshook__',\n",
       " '__truediv__',\n",
       " '__weakref__',\n",
       " '__xor__',\n",
       " '_accessors',\n",
       " '_accum_func',\n",
       " '_add_numeric_operations',\n",
       " '_agg_by_level',\n",
       " '_agg_examples_doc',\n",
       " '_agg_summary_and_see_also_doc',\n",
       " '_aggregate',\n",
       " '_align_frame',\n",
       " '_align_series',\n",
       " '_arith_method',\n",
       " '_attrs',\n",
       " '_box_col_values',\n",
       " '_builtin_table',\n",
       " '_can_fast_transpose',\n",
       " '_check_inplace_and_allows_duplicate_labels',\n",
       " '_check_inplace_setting',\n",
       " '_check_is_chained_assignment_possible',\n",
       " '_check_label_or_level_ambiguity',\n",
       " '_check_setitem_copy',\n",
       " '_clear_item_cache',\n",
       " '_clip_with_one_bound',\n",
       " '_clip_with_scalar',\n",
       " '_cmp_method',\n",
       " '_combine_frame',\n",
       " '_consolidate',\n",
       " '_consolidate_inplace',\n",
       " '_construct_axes_dict',\n",
       " '_construct_axes_from_arguments',\n",
       " '_construct_result',\n",
       " '_constructor',\n",
       " '_constructor_expanddim',\n",
       " '_constructor_sliced',\n",
       " '_convert',\n",
       " '_count_level',\n",
       " '_cython_table',\n",
       " '_data',\n",
       " '_dir_additions',\n",
       " '_dir_deletions',\n",
       " '_dispatch_frame_op',\n",
       " '_drop_axis',\n",
       " '_drop_labels_or_levels',\n",
       " '_ensure_valid_index',\n",
       " '_find_valid_index',\n",
       " '_flags',\n",
       " '_from_arrays',\n",
       " '_get_agg_axis',\n",
       " '_get_axis',\n",
       " '_get_axis_name',\n",
       " '_get_axis_number',\n",
       " '_get_axis_resolvers',\n",
       " '_get_block_manager_axis',\n",
       " '_get_bool_data',\n",
       " '_get_cacher',\n",
       " '_get_cleaned_column_resolvers',\n",
       " '_get_column_array',\n",
       " '_get_cython_func',\n",
       " '_get_index_resolvers',\n",
       " '_get_item_cache',\n",
       " '_get_label_or_level_values',\n",
       " '_get_numeric_data',\n",
       " '_get_value',\n",
       " '_getitem_bool_array',\n",
       " '_getitem_multilevel',\n",
       " '_gotitem',\n",
       " '_hidden_attrs',\n",
       " '_indexed_same',\n",
       " '_info_axis',\n",
       " '_info_axis_name',\n",
       " '_info_axis_number',\n",
       " '_info_repr',\n",
       " '_init_mgr',\n",
       " '_inplace_method',\n",
       " '_internal_names',\n",
       " '_internal_names_set',\n",
       " '_is_builtin_func',\n",
       " '_is_cached',\n",
       " '_is_copy',\n",
       " '_is_homogeneous_type',\n",
       " '_is_label_or_level_reference',\n",
       " '_is_label_reference',\n",
       " '_is_level_reference',\n",
       " '_is_mixed_type',\n",
       " '_is_view',\n",
       " '_iset_item',\n",
       " '_item_cache',\n",
       " '_iter_column_arrays',\n",
       " '_ix',\n",
       " '_ixs',\n",
       " '_join_compat',\n",
       " '_logical_func',\n",
       " '_logical_method',\n",
       " '_maybe_cache_changed',\n",
       " '_maybe_update_cacher',\n",
       " '_metadata',\n",
       " '_mgr',\n",
       " '_min_count_stat_function',\n",
       " '_needs_reindex_multi',\n",
       " '_obj_with_exclusions',\n",
       " '_protect_consolidate',\n",
       " '_reduce',\n",
       " '_reindex_axes',\n",
       " '_reindex_columns',\n",
       " '_reindex_index',\n",
       " '_reindex_multi',\n",
       " '_reindex_with_indexers',\n",
       " '_replace_columnwise',\n",
       " '_repr_data_resource_',\n",
       " '_repr_fits_horizontal_',\n",
       " '_repr_fits_vertical_',\n",
       " '_repr_html_',\n",
       " '_repr_latex_',\n",
       " '_reset_cache',\n",
       " '_reset_cacher',\n",
       " '_sanitize_column',\n",
       " '_selected_obj',\n",
       " '_selection',\n",
       " '_selection_list',\n",
       " '_selection_name',\n",
       " '_series',\n",
       " '_set_as_cached',\n",
       " '_set_axis',\n",
       " '_set_axis_name',\n",
       " '_set_axis_nocheck',\n",
       " '_set_is_copy',\n",
       " '_set_item',\n",
       " '_set_value',\n",
       " '_setitem_array',\n",
       " '_setitem_frame',\n",
       " '_setitem_slice',\n",
       " '_slice',\n",
       " '_stat_axis',\n",
       " '_stat_axis_name',\n",
       " '_stat_axis_number',\n",
       " '_stat_function',\n",
       " '_stat_function_ddof',\n",
       " '_take_with_is_copy',\n",
       " '_to_dict_of_blocks',\n",
       " '_try_aggregate_string_function',\n",
       " '_typ',\n",
       " '_update_inplace',\n",
       " '_validate_dtype',\n",
       " '_values',\n",
       " '_where',\n",
       " 'abs',\n",
       " 'add',\n",
       " 'add_prefix',\n",
       " 'add_suffix',\n",
       " 'agg',\n",
       " 'aggregate',\n",
       " 'align',\n",
       " 'all',\n",
       " 'any',\n",
       " 'append',\n",
       " 'apply',\n",
       " 'applymap',\n",
       " 'asfreq',\n",
       " 'asof',\n",
       " 'assign',\n",
       " 'astype',\n",
       " 'at',\n",
       " 'at_time',\n",
       " 'attrs',\n",
       " 'axes',\n",
       " 'backfill',\n",
       " 'between_time',\n",
       " 'bfill',\n",
       " 'bool',\n",
       " 'boxplot',\n",
       " 'clip',\n",
       " 'columns',\n",
       " 'combine',\n",
       " 'combine_first',\n",
       " 'compare',\n",
       " 'convert_dtypes',\n",
       " 'copy',\n",
       " 'corr',\n",
       " 'corrwith',\n",
       " 'count',\n",
       " 'cov',\n",
       " 'cummax',\n",
       " 'cummin',\n",
       " 'cumprod',\n",
       " 'cumsum',\n",
       " 'describe',\n",
       " 'diff',\n",
       " 'div',\n",
       " 'divide',\n",
       " 'dot',\n",
       " 'drop',\n",
       " 'drop_duplicates',\n",
       " 'droplevel',\n",
       " 'dropna',\n",
       " 'dtypes',\n",
       " 'duplicated',\n",
       " 'empty',\n",
       " 'eq',\n",
       " 'equals',\n",
       " 'eval',\n",
       " 'ewm',\n",
       " 'expanding',\n",
       " 'explode',\n",
       " 'ffill',\n",
       " 'fillna',\n",
       " 'filter',\n",
       " 'first',\n",
       " 'first_valid_index',\n",
       " 'flags',\n",
       " 'floordiv',\n",
       " 'from_dict',\n",
       " 'from_records',\n",
       " 'ge',\n",
       " 'get',\n",
       " 'groupby',\n",
       " 'gt',\n",
       " 'head',\n",
       " 'hist',\n",
       " 'iat',\n",
       " 'idxmax',\n",
       " 'idxmin',\n",
       " 'iloc',\n",
       " 'index',\n",
       " 'infer_objects',\n",
       " 'info',\n",
       " 'insert',\n",
       " 'interpolate',\n",
       " 'isin',\n",
       " 'isna',\n",
       " 'isnull',\n",
       " 'items',\n",
       " 'iteritems',\n",
       " 'iterrows',\n",
       " 'itertuples',\n",
       " 'join',\n",
       " 'keys',\n",
       " 'kurt',\n",
       " 'kurtosis',\n",
       " 'last',\n",
       " 'last_valid_index',\n",
       " 'le',\n",
       " 'loc',\n",
       " 'lookup',\n",
       " 'lt',\n",
       " 'mad',\n",
       " 'mask',\n",
       " 'max',\n",
       " 'mean',\n",
       " 'median',\n",
       " 'melt',\n",
       " 'memory_usage',\n",
       " 'merge',\n",
       " 'min',\n",
       " 'mod',\n",
       " 'mode',\n",
       " 'mul',\n",
       " 'multiply',\n",
       " 'ndim',\n",
       " 'ne',\n",
       " 'nlargest',\n",
       " 'notna',\n",
       " 'notnull',\n",
       " 'nsmallest',\n",
       " 'nunique',\n",
       " 'pad',\n",
       " 'pct_change',\n",
       " 'pipe',\n",
       " 'pivot',\n",
       " 'pivot_table',\n",
       " 'plot',\n",
       " 'pop',\n",
       " 'pow',\n",
       " 'prod',\n",
       " 'product',\n",
       " 'quantile',\n",
       " 'query',\n",
       " 'radd',\n",
       " 'rank',\n",
       " 'rdiv',\n",
       " 'reindex',\n",
       " 'reindex_like',\n",
       " 'rename',\n",
       " 'rename_axis',\n",
       " 'reorder_levels',\n",
       " 'replace',\n",
       " 'resample',\n",
       " 'reset_index',\n",
       " 'rfloordiv',\n",
       " 'rmod',\n",
       " 'rmul',\n",
       " 'rolling',\n",
       " 'round',\n",
       " 'rpow',\n",
       " 'rsub',\n",
       " 'rtruediv',\n",
       " 'sample',\n",
       " 'select_dtypes',\n",
       " 'sem',\n",
       " 'set_axis',\n",
       " 'set_flags',\n",
       " 'set_index',\n",
       " 'shape',\n",
       " 'shift',\n",
       " 'size',\n",
       " 'skew',\n",
       " 'slice_shift',\n",
       " 'sort_index',\n",
       " 'sort_values',\n",
       " 'squeeze',\n",
       " 'stack',\n",
       " 'std',\n",
       " 'style',\n",
       " 'sub',\n",
       " 'subtract',\n",
       " 'sum',\n",
       " 'swapaxes',\n",
       " 'swaplevel',\n",
       " 'tail',\n",
       " 'take',\n",
       " 'to_clipboard',\n",
       " 'to_csv',\n",
       " 'to_dict',\n",
       " 'to_excel',\n",
       " 'to_feather',\n",
       " 'to_gbq',\n",
       " 'to_hdf',\n",
       " 'to_html',\n",
       " 'to_json',\n",
       " 'to_latex',\n",
       " 'to_markdown',\n",
       " 'to_numpy',\n",
       " 'to_parquet',\n",
       " 'to_period',\n",
       " 'to_pickle',\n",
       " 'to_records',\n",
       " 'to_sql',\n",
       " 'to_stata',\n",
       " 'to_string',\n",
       " 'to_timestamp',\n",
       " 'to_xarray',\n",
       " 'transform',\n",
       " 'transpose',\n",
       " 'truediv',\n",
       " 'truncate',\n",
       " 'tz_convert',\n",
       " 'tz_localize',\n",
       " 'unstack',\n",
       " 'update',\n",
       " 'value_counts',\n",
       " 'values',\n",
       " 'var',\n",
       " 'where',\n",
       " 'xs']"
      ]
     },
     "execution_count": 129,
     "metadata": {},
     "output_type": "execute_result"
    }
   ],
   "source": [
    "dir(b)"
   ]
  },
  {
   "cell_type": "code",
   "execution_count": 134,
   "id": "a935da1c",
   "metadata": {},
   "outputs": [
    {
     "data": {
      "text/plain": [
       "['1', 'група']"
      ]
     },
     "execution_count": 134,
     "metadata": {},
     "output_type": "execute_result"
    }
   ],
   "source": [
    "\"1   група\".split()"
   ]
  },
  {
   "cell_type": "code",
   "execution_count": 127,
   "id": "ef4c3177",
   "metadata": {},
   "outputs": [
    {
     "data": {
      "text/html": [
       "<div>\n",
       "<style scoped>\n",
       "    .dataframe tbody tr th:only-of-type {\n",
       "        vertical-align: middle;\n",
       "    }\n",
       "\n",
       "    .dataframe tbody tr th {\n",
       "        vertical-align: top;\n",
       "    }\n",
       "\n",
       "    .dataframe thead th {\n",
       "        text-align: right;\n",
       "    }\n",
       "</style>\n",
       "<table border=\"1\" class=\"dataframe\">\n",
       "  <thead>\n",
       "    <tr style=\"text-align: right;\">\n",
       "      <th></th>\n",
       "      <th>0</th>\n",
       "      <th>1</th>\n",
       "      <th>2</th>\n",
       "      <th>3</th>\n",
       "    </tr>\n",
       "  </thead>\n",
       "  <tbody>\n",
       "  </tbody>\n",
       "</table>\n",
       "</div>"
      ],
      "text/plain": [
       "Empty DataFrame\n",
       "Columns: [0, 1, 2, 3]\n",
       "Index: []"
      ]
     },
     "execution_count": 127,
     "metadata": {},
     "output_type": "execute_result"
    }
   ],
   "source": [
    "b.filter(like='Номер\\nтижня', axis=0)"
   ]
  },
  {
   "cell_type": "code",
   "execution_count": 146,
   "id": "cba687b6",
   "metadata": {},
   "outputs": [],
   "source": [
    "re.search?"
   ]
  },
  {
   "cell_type": "code",
   "execution_count": 143,
   "id": "a6984ca8",
   "metadata": {},
   "outputs": [],
   "source": [
    "import re"
   ]
  },
  {
   "cell_type": "code",
   "execution_count": 174,
   "id": "b81983f3",
   "metadata": {},
   "outputs": [],
   "source": [
    "b=['Номер\\nтижня', 'День\\nтижня', '1 група', 'Online', None]"
   ]
  },
  {
   "cell_type": "code",
   "execution_count": 175,
   "id": "fa3a3582",
   "metadata": {},
   "outputs": [
    {
     "data": {
      "text/plain": [
       "['Номер\\nтижня', 'День\\nтижня', '1 група', 'Online', None]"
      ]
     },
     "execution_count": 175,
     "metadata": {},
     "output_type": "execute_result"
    }
   ],
   "source": [
    "b"
   ]
  },
  {
   "cell_type": "code",
   "execution_count": 176,
   "id": "79a40e81",
   "metadata": {},
   "outputs": [
    {
     "data": {
      "text/plain": [
       "['День\\nтижня']"
      ]
     },
     "execution_count": 176,
     "metadata": {},
     "output_type": "execute_result"
    }
   ],
   "source": [
    "[x for x in b if x and re.search(\"День\", x)]"
   ]
  },
  {
   "cell_type": "code",
   "execution_count": null,
   "id": "15f2f04d",
   "metadata": {},
   "outputs": [],
   "source": []
  }
 ],
 "metadata": {
  "kernelspec": {
   "display_name": "Python 3",
   "language": "python",
   "name": "python3"
  },
  "language_info": {
   "codemirror_mode": {
    "name": "ipython",
    "version": 3
   },
   "file_extension": ".py",
   "mimetype": "text/x-python",
   "name": "python",
   "nbconvert_exporter": "python",
   "pygments_lexer": "ipython3",
   "version": "3.9.4"
  }
 },
 "nbformat": 4,
 "nbformat_minor": 5
}
