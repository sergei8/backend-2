{
 "cells": [
  {
   "cell_type": "code",
   "execution_count": 12,
   "id": "a5ee633f",
   "metadata": {},
   "outputs": [
    {
     "name": "stdout",
     "output_type": "stream",
     "text": [
      "Python 3.9.4\r\n"
     ]
    }
   ],
   "source": [
    "!python3 --version"
   ]
  },
  {
   "cell_type": "code",
   "execution_count": 13,
   "id": "b2b333a0",
   "metadata": {},
   "outputs": [],
   "source": [
    "import pandas as pd"
   ]
  },
  {
   "cell_type": "code",
   "execution_count": 41,
   "id": "1937c482",
   "metadata": {},
   "outputs": [],
   "source": [
    "f = pd.read_excel(\"https://knute.edu.ua/file/MjY=/0c7de560c133001b06847d812c316c70.xls\", \n",
    "                  sheet_name=None, header=None)"
   ]
  },
  {
   "cell_type": "code",
   "execution_count": 32,
   "id": "40f0fb43",
   "metadata": {},
   "outputs": [],
   "source": [
    "l = list(f.keys())"
   ]
  },
  {
   "cell_type": "code",
   "execution_count": 33,
   "id": "6d62f186",
   "metadata": {},
   "outputs": [
    {
     "data": {
      "text/plain": [
       "['з 08.02 Розклад', 'Начитка', 'Лист3']"
      ]
     },
     "execution_count": 33,
     "metadata": {},
     "output_type": "execute_result"
    }
   ],
   "source": [
    "l"
   ]
  },
  {
   "cell_type": "code",
   "execution_count": 22,
   "id": "72a6d3c6",
   "metadata": {},
   "outputs": [
    {
     "name": "stdout",
     "output_type": "stream",
     "text": [
      "(5, Unnamed: 0     NaN\n",
      "Unnamed: 1     NaN\n",
      "Unnamed: 2     NaN\n",
      "Unnamed: 3     NaN\n",
      "Unnamed: 4     NaN\n",
      "Unnamed: 5     NaN\n",
      "Unnamed: 6     NaN\n",
      "Unnamed: 7     NaN\n",
      "Unnamed: 8     NaN\n",
      "Unnamed: 9     NaN\n",
      "Unnamed: 10    NaN\n",
      "Unnamed: 11    NaN\n",
      "Затверджую     NaN\n",
      "Unnamed: 13    NaN\n",
      "Unnamed: 14    NaN\n",
      "Unnamed: 15    NaN\n",
      "Unnamed: 16    NaN\n",
      "Unnamed: 17    NaN\n",
      "Unnamed: 18    NaN\n",
      "Name: 5, dtype: object)\n"
     ]
    }
   ],
   "source": [
    "for r in a.iterrows():\n",
    "    print(r)"
   ]
  },
  {
   "cell_type": "code",
   "execution_count": 43,
   "id": "24e59c7c",
   "metadata": {},
   "outputs": [
    {
     "data": {
      "text/html": [
       "<div>\n",
       "<style scoped>\n",
       "    .dataframe tbody tr th:only-of-type {\n",
       "        vertical-align: middle;\n",
       "    }\n",
       "\n",
       "    .dataframe tbody tr th {\n",
       "        vertical-align: top;\n",
       "    }\n",
       "\n",
       "    .dataframe thead th {\n",
       "        text-align: right;\n",
       "    }\n",
       "</style>\n",
       "<table border=\"1\" class=\"dataframe\">\n",
       "  <thead>\n",
       "    <tr style=\"text-align: right;\">\n",
       "      <th></th>\n",
       "      <th>0</th>\n",
       "      <th>1</th>\n",
       "      <th>2</th>\n",
       "      <th>3</th>\n",
       "      <th>4</th>\n",
       "      <th>5</th>\n",
       "      <th>6</th>\n",
       "      <th>7</th>\n",
       "      <th>8</th>\n",
       "      <th>9</th>\n",
       "      <th>10</th>\n",
       "      <th>11</th>\n",
       "      <th>12</th>\n",
       "      <th>13</th>\n",
       "      <th>14</th>\n",
       "      <th>15</th>\n",
       "      <th>16</th>\n",
       "      <th>17</th>\n",
       "      <th>18</th>\n",
       "    </tr>\n",
       "  </thead>\n",
       "  <tbody>\n",
       "    <tr>\n",
       "      <th>5</th>\n",
       "      <td>Номер\\nтижня</td>\n",
       "      <td>День\\nтижня</td>\n",
       "      <td>Пара\\n</td>\n",
       "      <td>On-line</td>\n",
       "      <td>On-line</td>\n",
       "      <td>On-line</td>\n",
       "      <td>On-line</td>\n",
       "      <td>On-line</td>\n",
       "      <td>On-line</td>\n",
       "      <td>On-line</td>\n",
       "      <td>On-line</td>\n",
       "      <td>On-line</td>\n",
       "      <td>On-line</td>\n",
       "      <td>On-line</td>\n",
       "      <td>On-line</td>\n",
       "      <td>On-line</td>\n",
       "      <td>Пара\\n</td>\n",
       "      <td>День\\nтижня</td>\n",
       "      <td>Номер\\nтижня</td>\n",
       "    </tr>\n",
       "    <tr>\n",
       "      <th>6</th>\n",
       "      <td>NaN</td>\n",
       "      <td>NaN</td>\n",
       "      <td>NaN</td>\n",
       "      <td>NaN</td>\n",
       "      <td>NaN</td>\n",
       "      <td>NaN</td>\n",
       "      <td>NaN</td>\n",
       "      <td>NaN</td>\n",
       "      <td>NaN</td>\n",
       "      <td>NaN</td>\n",
       "      <td>NaN</td>\n",
       "      <td>NaN</td>\n",
       "      <td>NaN</td>\n",
       "      <td>NaN</td>\n",
       "      <td>NaN</td>\n",
       "      <td>NaN</td>\n",
       "      <td>NaN</td>\n",
       "      <td>NaN</td>\n",
       "      <td>NaN</td>\n",
       "    </tr>\n",
       "    <tr>\n",
       "      <th>7</th>\n",
       "      <td>Номер\\nтижня</td>\n",
       "      <td>День\\nтижня</td>\n",
       "      <td>Пара\\n</td>\n",
       "      <td>1 група</td>\n",
       "      <td>2 група</td>\n",
       "      <td>3 група</td>\n",
       "      <td>4 група</td>\n",
       "      <td>5 група</td>\n",
       "      <td>6 група</td>\n",
       "      <td>6мб група</td>\n",
       "      <td>7 група</td>\n",
       "      <td>8 група</td>\n",
       "      <td>9 група</td>\n",
       "      <td>10 група</td>\n",
       "      <td>11 група</td>\n",
       "      <td>12 група</td>\n",
       "      <td>Пара\\n</td>\n",
       "      <td>День\\nтижня</td>\n",
       "      <td>Номер\\nтижня</td>\n",
       "    </tr>\n",
       "    <tr>\n",
       "      <th>8</th>\n",
       "      <td>Перший тиждень</td>\n",
       "      <td>Понеділок</td>\n",
       "      <td>1</td>\n",
       "      <td>Л Економічна теорія</td>\n",
       "      <td>Л Технологія створ стартапу  В</td>\n",
       "      <td>Л Технологія створ стартапу  В</td>\n",
       "      <td>Л Комп'ютерні ТехнОбр та ВізДан</td>\n",
       "      <td>Л Комп'ютерні ТехнОбр та ВізДан</td>\n",
       "      <td>Л Комп'ютерні ТехнОбр та ВізДан</td>\n",
       "      <td>Л Комп'ютерні ТехнОбр та ВізДан</td>\n",
       "      <td>NaN</td>\n",
       "      <td>П Психологія  В</td>\n",
       "      <td>Л Технологія створ стартапу  В</td>\n",
       "      <td>Лб1 Інженерна та комп'ют графіка  В</td>\n",
       "      <td>Лб1 Алгоритмізація та програм</td>\n",
       "      <td>П Інмов за профспрям (Англ мова 2) В</td>\n",
       "      <td>1</td>\n",
       "      <td>Понеділок</td>\n",
       "      <td>Перший тиждень</td>\n",
       "    </tr>\n",
       "    <tr>\n",
       "      <th>9</th>\n",
       "      <td>NaN</td>\n",
       "      <td>NaN</td>\n",
       "      <td>NaN</td>\n",
       "      <td>доц. Ясько Ю.І .</td>\n",
       "      <td>доц. Пурденко О.А .</td>\n",
       "      <td>доц. Пурденко О.А .</td>\n",
       "      <td>доц. Самойленко Г.Т .</td>\n",
       "      <td>доц. Самойленко Г.Т .</td>\n",
       "      <td>доц. Самойленко Г.Т .</td>\n",
       "      <td>доц. Самойленко Г.Т .</td>\n",
       "      <td>NaN</td>\n",
       "      <td>ст.в. Гулько А.О .</td>\n",
       "      <td>доц. Пурденко О.А .</td>\n",
       "      <td>доц. Расулов Р.А .</td>\n",
       "      <td>ст.в. Кузнєцов О.Ф .</td>\n",
       "      <td>вик. Савчук Т.Л .</td>\n",
       "      <td>NaN</td>\n",
       "      <td>NaN</td>\n",
       "      <td>NaN</td>\n",
       "    </tr>\n",
       "  </tbody>\n",
       "</table>\n",
       "</div>"
      ],
      "text/plain": [
       "                0            1       2                    3   \\\n",
       "5     Номер\\nтижня  День\\nтижня  Пара\\n              On-line   \n",
       "6              NaN          NaN     NaN                  NaN   \n",
       "7     Номер\\nтижня  День\\nтижня  Пара\\n              1 група   \n",
       "8  Перший тиждень     Понеділок       1  Л Економічна теорія   \n",
       "9              NaN          NaN     NaN     доц. Ясько Ю.І .   \n",
       "\n",
       "                               4                               5   \\\n",
       "5                         On-line                         On-line   \n",
       "6                             NaN                             NaN   \n",
       "7                         2 група                         3 група   \n",
       "8  Л Технологія створ стартапу  В  Л Технологія створ стартапу  В   \n",
       "9             доц. Пурденко О.А .             доц. Пурденко О.А .   \n",
       "\n",
       "                                6                                7   \\\n",
       "5                          On-line                          On-line   \n",
       "6                              NaN                              NaN   \n",
       "7                          4 група                          5 група   \n",
       "8  Л Комп'ютерні ТехнОбр та ВізДан  Л Комп'ютерні ТехнОбр та ВізДан   \n",
       "9            доц. Самойленко Г.Т .            доц. Самойленко Г.Т .   \n",
       "\n",
       "                                8                                9        10  \\\n",
       "5                          On-line                          On-line  On-line   \n",
       "6                              NaN                              NaN      NaN   \n",
       "7                          6 група                        6мб група  7 група   \n",
       "8  Л Комп'ютерні ТехнОбр та ВізДан  Л Комп'ютерні ТехнОбр та ВізДан      NaN   \n",
       "9            доц. Самойленко Г.Т .            доц. Самойленко Г.Т .      NaN   \n",
       "\n",
       "                      11                              12  \\\n",
       "5                On-line                         On-line   \n",
       "6                    NaN                             NaN   \n",
       "7                8 група                         9 група   \n",
       "8        П Психологія  В  Л Технологія створ стартапу  В   \n",
       "9     ст.в. Гулько А.О .             доц. Пурденко О.А .   \n",
       "\n",
       "                                    13                             14  \\\n",
       "5                              On-line                        On-line   \n",
       "6                                  NaN                            NaN   \n",
       "7                             10 група                       11 група   \n",
       "8  Лб1 Інженерна та комп'ют графіка  В  Лб1 Алгоритмізація та програм   \n",
       "9                   доц. Расулов Р.А .           ст.в. Кузнєцов О.Ф .   \n",
       "\n",
       "                                     15      16           17               18  \n",
       "5                               On-line  Пара\\n  День\\nтижня     Номер\\nтижня  \n",
       "6                                   NaN     NaN          NaN              NaN  \n",
       "7                              12 група  Пара\\n  День\\nтижня     Номер\\nтижня  \n",
       "8  П Інмов за профспрям (Англ мова 2) В       1    Понеділок  Перший тиждень   \n",
       "9                     вик. Савчук Т.Л .     NaN          NaN              NaN  "
      ]
     },
     "execution_count": 43,
     "metadata": {},
     "output_type": "execute_result"
    }
   ],
   "source": [
    "f['з 08.02 Розклад'][5:10]"
   ]
  },
  {
   "cell_type": "code",
   "execution_count": 45,
   "id": "191bf853",
   "metadata": {},
   "outputs": [
    {
     "data": {
      "text/plain": [
       "Int64Index([0, 1, 2, 3, 4, 5, 6, 7, 8, 9, 10, 11, 12, 13, 14, 15, 16, 17, 18], dtype='int64')"
      ]
     },
     "execution_count": 45,
     "metadata": {},
     "output_type": "execute_result"
    }
   ],
   "source": [
    "f['з 08.02 Розклад'].columns"
   ]
  },
  {
   "cell_type": "code",
   "execution_count": 46,
   "id": "2a95d939",
   "metadata": {},
   "outputs": [
    {
     "data": {
      "text/plain": [
       "RangeIndex(start=0, stop=199, step=1)"
      ]
     },
     "execution_count": 46,
     "metadata": {},
     "output_type": "execute_result"
    }
   ],
   "source": [
    "f['з 08.02 Розклад'].index"
   ]
  },
  {
   "cell_type": "code",
   "execution_count": null,
   "id": "20d656ee",
   "metadata": {},
   "outputs": [],
   "source": []
  }
 ],
 "metadata": {
  "kernelspec": {
   "display_name": "Python 3",
   "language": "python",
   "name": "python3"
  },
  "language_info": {
   "codemirror_mode": {
    "name": "ipython",
    "version": 3
   },
   "file_extension": ".py",
   "mimetype": "text/x-python",
   "name": "python",
   "nbconvert_exporter": "python",
   "pygments_lexer": "ipython3",
   "version": "3.9.4"
  }
 },
 "nbformat": 4,
 "nbformat_minor": 5
}
