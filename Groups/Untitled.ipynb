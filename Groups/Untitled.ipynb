{
 "cells": [
  {
   "cell_type": "code",
   "execution_count": 1,
   "id": "a5ee633f",
   "metadata": {},
   "outputs": [
    {
     "name": "stdout",
     "output_type": "stream",
     "text": [
      "Python 3.9.4\r\n"
     ]
    }
   ],
   "source": [
    "!python3 --version"
   ]
  },
  {
   "cell_type": "code",
   "execution_count": 2,
   "id": "b2b333a0",
   "metadata": {},
   "outputs": [],
   "source": [
    "import pandas as pd"
   ]
  },
  {
   "cell_type": "code",
   "execution_count": 4,
   "id": "1937c482",
   "metadata": {},
   "outputs": [],
   "source": [
    "f = pd.read_excel(\"https://knute.edu.ua/file/MjY=/0c7de560c133001b06847d812c316c70.xls\")"
   ]
  },
  {
   "cell_type": "code",
   "execution_count": 5,
   "id": "40f0fb43",
   "metadata": {},
   "outputs": [
    {
     "data": {
      "text/plain": [
       "pandas.core.frame.DataFrame"
      ]
     },
     "execution_count": 5,
     "metadata": {},
     "output_type": "execute_result"
    }
   ],
   "source": [
    "type(f)"
   ]
  },
  {
   "cell_type": "code",
   "execution_count": 9,
   "id": "4521ad87",
   "metadata": {
    "scrolled": false
   },
   "outputs": [
    {
     "data": {
      "text/html": [
       "<div>\n",
       "<style scoped>\n",
       "    .dataframe tbody tr th:only-of-type {\n",
       "        vertical-align: middle;\n",
       "    }\n",
       "\n",
       "    .dataframe tbody tr th {\n",
       "        vertical-align: top;\n",
       "    }\n",
       "\n",
       "    .dataframe thead th {\n",
       "        text-align: right;\n",
       "    }\n",
       "</style>\n",
       "<table border=\"1\" class=\"dataframe\">\n",
       "  <thead>\n",
       "    <tr style=\"text-align: right;\">\n",
       "      <th></th>\n",
       "      <th>Unnamed: 0</th>\n",
       "      <th>Unnamed: 1</th>\n",
       "      <th>Unnamed: 2</th>\n",
       "      <th>Unnamed: 3</th>\n",
       "      <th>Unnamed: 4</th>\n",
       "      <th>Unnamed: 5</th>\n",
       "      <th>Unnamed: 6</th>\n",
       "      <th>Unnamed: 7</th>\n",
       "      <th>Unnamed: 8</th>\n",
       "      <th>Unnamed: 9</th>\n",
       "      <th>Unnamed: 10</th>\n",
       "      <th>Unnamed: 11</th>\n",
       "      <th>Затверджую</th>\n",
       "      <th>Unnamed: 13</th>\n",
       "      <th>Unnamed: 14</th>\n",
       "      <th>Unnamed: 15</th>\n",
       "      <th>Unnamed: 16</th>\n",
       "      <th>Unnamed: 17</th>\n",
       "      <th>Unnamed: 18</th>\n",
       "    </tr>\n",
       "  </thead>\n",
       "  <tbody>\n",
       "    <tr>\n",
       "      <th>6</th>\n",
       "      <td>Номер\\nтижня</td>\n",
       "      <td>День\\nтижня</td>\n",
       "      <td>Пара\\n</td>\n",
       "      <td>1 група</td>\n",
       "      <td>2 група</td>\n",
       "      <td>3 група</td>\n",
       "      <td>4 група</td>\n",
       "      <td>5 група</td>\n",
       "      <td>6 група</td>\n",
       "      <td>6мб група</td>\n",
       "      <td>7 група</td>\n",
       "      <td>8 група</td>\n",
       "      <td>9 група</td>\n",
       "      <td>10 група</td>\n",
       "      <td>11 група</td>\n",
       "      <td>12 група</td>\n",
       "      <td>Пара\\n</td>\n",
       "      <td>День\\nтижня</td>\n",
       "      <td>Номер\\nтижня</td>\n",
       "    </tr>\n",
       "    <tr>\n",
       "      <th>7</th>\n",
       "      <td>Перший тиждень</td>\n",
       "      <td>Понеділок</td>\n",
       "      <td>1</td>\n",
       "      <td>Л Економічна теорія</td>\n",
       "      <td>Л Технологія створ стартапу  В</td>\n",
       "      <td>Л Технологія створ стартапу  В</td>\n",
       "      <td>Л Комп'ютерні ТехнОбр та ВізДан</td>\n",
       "      <td>Л Комп'ютерні ТехнОбр та ВізДан</td>\n",
       "      <td>Л Комп'ютерні ТехнОбр та ВізДан</td>\n",
       "      <td>Л Комп'ютерні ТехнОбр та ВізДан</td>\n",
       "      <td>NaN</td>\n",
       "      <td>П Психологія  В</td>\n",
       "      <td>Л Технологія створ стартапу  В</td>\n",
       "      <td>Лб1 Інженерна та комп'ют графіка  В</td>\n",
       "      <td>Лб1 Алгоритмізація та програм</td>\n",
       "      <td>П Інмов за профспрям (Англ мова 2) В</td>\n",
       "      <td>1</td>\n",
       "      <td>Понеділок</td>\n",
       "      <td>Перший тиждень</td>\n",
       "    </tr>\n",
       "    <tr>\n",
       "      <th>8</th>\n",
       "      <td>NaN</td>\n",
       "      <td>NaN</td>\n",
       "      <td>NaN</td>\n",
       "      <td>доц. Ясько Ю.І .</td>\n",
       "      <td>доц. Пурденко О.А .</td>\n",
       "      <td>доц. Пурденко О.А .</td>\n",
       "      <td>доц. Самойленко Г.Т .</td>\n",
       "      <td>доц. Самойленко Г.Т .</td>\n",
       "      <td>доц. Самойленко Г.Т .</td>\n",
       "      <td>доц. Самойленко Г.Т .</td>\n",
       "      <td>NaN</td>\n",
       "      <td>ст.в. Гулько А.О .</td>\n",
       "      <td>доц. Пурденко О.А .</td>\n",
       "      <td>доц. Расулов Р.А .</td>\n",
       "      <td>ст.в. Кузнєцов О.Ф .</td>\n",
       "      <td>вик. Савчук Т.Л .</td>\n",
       "      <td>NaN</td>\n",
       "      <td>NaN</td>\n",
       "      <td>NaN</td>\n",
       "    </tr>\n",
       "    <tr>\n",
       "      <th>9</th>\n",
       "      <td>NaN</td>\n",
       "      <td>NaN</td>\n",
       "      <td>NaN</td>\n",
       "      <td>NaN</td>\n",
       "      <td>NaN</td>\n",
       "      <td>NaN</td>\n",
       "      <td>NaN</td>\n",
       "      <td>NaN</td>\n",
       "      <td>NaN</td>\n",
       "      <td>NaN</td>\n",
       "      <td>NaN</td>\n",
       "      <td>NaN</td>\n",
       "      <td>NaN</td>\n",
       "      <td>Лб2 Електротехніка  В</td>\n",
       "      <td>NaN</td>\n",
       "      <td>П Інмов за профспрям (Англ мова 1) В</td>\n",
       "      <td>NaN</td>\n",
       "      <td>NaN</td>\n",
       "      <td>NaN</td>\n",
       "    </tr>\n",
       "  </tbody>\n",
       "</table>\n",
       "</div>"
      ],
      "text/plain": [
       "        Unnamed: 0   Unnamed: 1 Unnamed: 2           Unnamed: 3  \\\n",
       "6     Номер\\nтижня  День\\nтижня     Пара\\n              1 група   \n",
       "7  Перший тиждень     Понеділок          1  Л Економічна теорія   \n",
       "8              NaN          NaN        NaN     доц. Ясько Ю.І .   \n",
       "9              NaN          NaN        NaN                  NaN   \n",
       "\n",
       "                       Unnamed: 4                      Unnamed: 5  \\\n",
       "6                         2 група                         3 група   \n",
       "7  Л Технологія створ стартапу  В  Л Технологія створ стартапу  В   \n",
       "8             доц. Пурденко О.А .             доц. Пурденко О.А .   \n",
       "9                             NaN                             NaN   \n",
       "\n",
       "                        Unnamed: 6                       Unnamed: 7  \\\n",
       "6                          4 група                          5 група   \n",
       "7  Л Комп'ютерні ТехнОбр та ВізДан  Л Комп'ютерні ТехнОбр та ВізДан   \n",
       "8            доц. Самойленко Г.Т .            доц. Самойленко Г.Т .   \n",
       "9                              NaN                              NaN   \n",
       "\n",
       "                        Unnamed: 8                       Unnamed: 9  \\\n",
       "6                          6 група                        6мб група   \n",
       "7  Л Комп'ютерні ТехнОбр та ВізДан  Л Комп'ютерні ТехнОбр та ВізДан   \n",
       "8            доц. Самойленко Г.Т .            доц. Самойленко Г.Т .   \n",
       "9                              NaN                              NaN   \n",
       "\n",
       "  Unnamed: 10            Unnamed: 11                      Затверджую  \\\n",
       "6     7 група                8 група                         9 група   \n",
       "7         NaN        П Психологія  В  Л Технологія створ стартапу  В   \n",
       "8         NaN     ст.в. Гулько А.О .             доц. Пурденко О.А .   \n",
       "9         NaN                    NaN                             NaN   \n",
       "\n",
       "                           Unnamed: 13                    Unnamed: 14  \\\n",
       "6                             10 група                       11 група   \n",
       "7  Лб1 Інженерна та комп'ют графіка  В  Лб1 Алгоритмізація та програм   \n",
       "8                   доц. Расулов Р.А .           ст.в. Кузнєцов О.Ф .   \n",
       "9                Лб2 Електротехніка  В                            NaN   \n",
       "\n",
       "                            Unnamed: 15 Unnamed: 16  Unnamed: 17  \\\n",
       "6                              12 група      Пара\\n  День\\nтижня   \n",
       "7  П Інмов за профспрям (Англ мова 2) В           1    Понеділок   \n",
       "8                     вик. Савчук Т.Л .         NaN          NaN   \n",
       "9  П Інмов за профспрям (Англ мова 1) В         NaN          NaN   \n",
       "\n",
       "       Unnamed: 18  \n",
       "6     Номер\\nтижня  \n",
       "7  Перший тиждень   \n",
       "8              NaN  \n",
       "9              NaN  "
      ]
     },
     "execution_count": 9,
     "metadata": {},
     "output_type": "execute_result"
    }
   ],
   "source": [
    "f[6:10]"
   ]
  },
  {
   "cell_type": "code",
   "execution_count": 11,
   "id": "72a6d3c6",
   "metadata": {},
   "outputs": [
    {
     "data": {
      "text/plain": [
       "True"
      ]
     },
     "execution_count": 11,
     "metadata": {},
     "output_type": "execute_result"
    }
   ],
   "source": [
    "isinstance({}, dict)"
   ]
  },
  {
   "cell_type": "code",
   "execution_count": null,
   "id": "24e59c7c",
   "metadata": {},
   "outputs": [],
   "source": []
  }
 ],
 "metadata": {
  "kernelspec": {
   "display_name": "Python 3",
   "language": "python",
   "name": "python3"
  },
  "language_info": {
   "codemirror_mode": {
    "name": "ipython",
    "version": 3
   },
   "file_extension": ".py",
   "mimetype": "text/x-python",
   "name": "python",
   "nbconvert_exporter": "python",
   "pygments_lexer": "ipython3",
   "version": "3.9.4"
  }
 },
 "nbformat": 4,
 "nbformat_minor": 5
}
